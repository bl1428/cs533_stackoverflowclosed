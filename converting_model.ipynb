{
 "cells": [
  {
   "cell_type": "code",
   "execution_count": 10,
   "metadata": {
    "collapsed": false,
    "pycharm": {
     "name": "#%%\n"
    }
   },
   "outputs": [
    {
     "name": "stdout",
     "output_type": "stream",
     "text": [
      "ONNX opset version set to: 11\n",
      "Loading pipeline (model: jeniya/BERTOverflow, tokenizer: jeniya/BERTOverflow)\n",
      "Creating folder onnxmodel\n",
      "Using framework PyTorch: 1.8.1+cu111\n",
      "Found input input_ids with shape: {0: 'batch', 1: 'sequence'}\n",
      "Found input token_type_ids with shape: {0: 'batch', 1: 'sequence'}\n",
      "Found input attention_mask with shape: {0: 'batch', 1: 'sequence'}\n",
      "Found output output_0 with shape: {0: 'batch', 1: 'sequence'}\n",
      "Found output output_1 with shape: {0: 'batch'}\n",
      "Found output output_2 with shape: {0: 'batch', 1: 'sequence'}\n",
      "Found output output_3 with shape: {0: 'batch', 1: 'sequence'}\n",
      "Found output output_4 with shape: {0: 'batch', 1: 'sequence'}\n",
      "Found output output_5 with shape: {0: 'batch', 1: 'sequence'}\n",
      "Found output output_6 with shape: {0: 'batch', 1: 'sequence'}\n",
      "Found output output_7 with shape: {0: 'batch', 1: 'sequence'}\n",
      "Found output output_8 with shape: {0: 'batch', 1: 'sequence'}\n",
      "Found output output_9 with shape: {0: 'batch', 1: 'sequence'}\n",
      "Found output output_10 with shape: {0: 'batch', 1: 'sequence'}\n",
      "Found output output_11 with shape: {0: 'batch', 1: 'sequence'}\n",
      "Found output output_12 with shape: {0: 'batch', 1: 'sequence'}\n",
      "Found output output_13 with shape: {0: 'batch', 1: 'sequence'}\n",
      "Found output output_14 with shape: {0: 'batch', 1: 'sequence'}\n",
      "Ensuring inputs are in correct order\n",
      "position_ids is not present in the generated input list.\n",
      "Generated inputs order: ['input_ids', 'attention_mask', 'token_type_ids']\n"
     ]
    },
    {
     "name": "stderr",
     "output_type": "stream",
     "text": [
      "c:\\users\\\\anaconda3\\envs\\tf\\lib\\site-packages\\transformers\\modeling_utils.py:1789: TracerWarning: Converting a tensor to a Python boolean might cause the trace to be incorrect. We can't record the data flow of Python values, so this value will be treated as a constant in the future. This means that the trace might not generalize to other inputs!\n",
      "  assert all(\n"
     ]
    }
   ],
   "source": [
    "from pathlib import Path\n",
    "from transformers.convert_graph_to_onnx import convert\n",
    "\n",
    "convert(framework=\"pt\", model=\"jeniya/BERTOverflow\", output=Path(\"onnxmodel/BERTOverflow.onnx\"), opset=11)"
   ]
  },
  {
   "cell_type": "code",
   "execution_count": 11,
   "metadata": {
    "collapsed": false,
    "pycharm": {
     "name": "#%%\n"
    }
   },
   "outputs": [
    {
     "name": "stderr",
     "output_type": "stream",
     "text": [
      "c:\\users\\bluo\\downloads\\cs533_stackoverflowclosed\\onnx-tensorflow\\onnx_tf\\backend.py:277: SyntaxWarning: \"is\" with a literal. Did you mean \"==\"?\n",
      "  name = get_unique_suffix() + name if name[0] is \"_\" else name\n"
     ]
    }
   ],
   "source": [
    "import onnx\n",
    "from onnx_tf.backend import prepare\n",
    "\n",
    "# Load the ONNX file\n",
    "model = onnx.load('onnxmodel/BERTOverflow.onnx')\n",
    "\n",
    "# Import the ONNX model to Tensorflow\n",
    "tf_rep = prepare(model)"
   ]
  },
  {
   "cell_type": "code",
   "execution_count": 21,
   "metadata": {
    "collapsed": false,
    "pycharm": {
     "name": "#%%\n"
    }
   },
   "outputs": [
    {
     "name": "stderr",
     "output_type": "stream",
     "text": [
      "WARNING:absl:Found untraced functions such as gen_tensor_dict while saving (showing 1 of 1). These functions will not be directly callable after loading.\n",
      "WARNING:absl:Found untraced functions such as gen_tensor_dict while saving (showing 1 of 1). These functions will not be directly callable after loading.\n",
      "INFO:tensorflow:Assets written to: onnxmodel/BERTOverflow.pb\\assets\n"
     ]
    },
    {
     "name": "stdout",
     "output_type": "stream",
     "text": [
      "INFO:tensorflow:Assets written to: onnxmodel/BERTOverflow.pb\\assets\n"
     ]
    }
   ],
   "source": [
    "#save tf model\n",
    "tf_rep.export_graph('onnxmodel/BERTOverflow.pb')"
   ]
  },
  {
   "cell_type": "code",
   "execution_count": 22,
   "metadata": {
    "collapsed": false,
    "pycharm": {
     "name": "#%%\n"
    }
   },
   "outputs": [
    {
     "ename": "AttributeError",
     "evalue": "'_UserObject' object has no attribute '_is_graph_network'",
     "output_type": "error",
     "traceback": [
      "\u001b[1;31m---------------------------------------------------------------------------\u001b[0m",
      "\u001b[1;31mAttributeError\u001b[0m                            Traceback (most recent call last)",
      "\u001b[1;32m<ipython-input-22-2ba4c2a4bfed>\u001b[0m in \u001b[0;36m<module>\u001b[1;34m\u001b[0m\n\u001b[0;32m      3\u001b[0m \u001b[1;33m\u001b[0m\u001b[0m\n\u001b[0;32m      4\u001b[0m \u001b[0mloaded_model\u001b[0m \u001b[1;33m=\u001b[0m \u001b[0mtf\u001b[0m\u001b[1;33m.\u001b[0m\u001b[0mkeras\u001b[0m\u001b[1;33m.\u001b[0m\u001b[0mmodels\u001b[0m\u001b[1;33m.\u001b[0m\u001b[0mload_model\u001b[0m\u001b[1;33m(\u001b[0m\u001b[1;34m'onnxmodel/BERTOverflow.pb'\u001b[0m\u001b[1;33m)\u001b[0m\u001b[1;33m\u001b[0m\u001b[1;33m\u001b[0m\u001b[0m\n\u001b[1;32m----> 5\u001b[1;33m \u001b[0msave_model\u001b[0m\u001b[1;33m(\u001b[0m\u001b[0mloaded_model\u001b[0m\u001b[1;33m,\u001b[0m \u001b[1;34m'onnxmodel/BERTOverflow.h5'\u001b[0m\u001b[1;33m,\u001b[0m \u001b[0msave_format\u001b[0m\u001b[1;33m=\u001b[0m\u001b[1;34m'h5'\u001b[0m\u001b[1;33m)\u001b[0m\u001b[1;33m\u001b[0m\u001b[1;33m\u001b[0m\u001b[0m\n\u001b[0m",
      "\u001b[1;32mc:\\users\\\\anaconda3\\envs\\tf\\lib\\site-packages\\tensorflow\\python\\keras\\saving\\save.py\u001b[0m in \u001b[0;36msave_model\u001b[1;34m(model, filepath, overwrite, include_optimizer, save_format, signatures, options, save_traces)\u001b[0m\n\u001b[0;32m    142\u001b[0m       os.path.splitext(filepath)[1] in _HDF5_EXTENSIONS):\n\u001b[0;32m    143\u001b[0m     \u001b[1;31m# TODO(b/130258301): add utility method for detecting model type.\u001b[0m\u001b[1;33m\u001b[0m\u001b[1;33m\u001b[0m\u001b[1;33m\u001b[0m\u001b[0m\n\u001b[1;32m--> 144\u001b[1;33m     if (not model._is_graph_network and  # pylint:disable=protected-access\n\u001b[0m\u001b[0;32m    145\u001b[0m         not isinstance(model, sequential.Sequential)):\n\u001b[0;32m    146\u001b[0m       raise NotImplementedError(\n",
      "\u001b[1;31mAttributeError\u001b[0m: '_UserObject' object has no attribute '_is_graph_network'"
     ]
    }
   ],
   "source": [
    "import tensorflow as tf\n",
    "from tensorflow.keras.models import save_model, Sequential\n",
    "\n",
    "loaded_model = tf.keras.models.load_model('onnxmodel/BERTOverflow.pb')\n",
    "save_model(loaded_model, 'onnxmodel/BERTOverflow.h5', save_format='h5')"
   ]
  }
 ],
 "metadata": {
  "kernelspec": {
   "display_name": "Python 3",
   "language": "python",
   "name": "python3"
  },
  "language_info": {
   "codemirror_mode": {
    "name": "ipython",
    "version": 2
   },
   "file_extension": ".py",
   "mimetype": "text/x-python",
   "name": "python",
   "nbconvert_exporter": "python",
   "pygments_lexer": "ipython2",
   "version": "2.7.6"
  }
 },
 "nbformat": 4,
 "nbformat_minor": 0
}
